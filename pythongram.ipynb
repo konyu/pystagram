{
  "nbformat": 4,
  "nbformat_minor": 0,
  "metadata": {
    "colab": {
      "name": "pythongram.ipynb",
      "version": "0.3.2",
      "provenance": [],
      "collapsed_sections": []
    },
    "kernelspec": {
      "name": "python3",
      "display_name": "Python 3"
    }
  },
  "cells": [
    {
      "metadata": {
        "id": "LFYC9IPUSaiA",
        "colab_type": "code",
        "colab": {}
      },
      "cell_type": "code",
      "source": [
        "!pip install gspread\n",
        "from google.colab import auth\n",
        "from oauth2client.client import GoogleCredentials\n",
        "import gspread"
      ],
      "execution_count": 0,
      "outputs": []
    },
    {
      "metadata": {
        "id": "b50HRaAiShU-",
        "colab_type": "code",
        "colab": {}
      },
      "cell_type": "code",
      "source": [
        "# 認証系の処理\n",
        "auth.authenticate_user()\n",
        "gc = gspread.authorize(GoogleCredentials.get_application_default())\n",
        "\n",
        "# スプレッドシートの1枚めを開く\n",
        "worksheet = gc.open('pythongram_sample').sheet1\n"
      ],
      "execution_count": 0,
      "outputs": []
    },
    {
      "metadata": {
        "id": "vWT-cmNASl0k",
        "colab_type": "code",
        "colab": {}
      },
      "cell_type": "code",
      "source": [
        "rows = worksheet.get_all_values()\n",
        "import pandas as pd\n",
        "\n",
        "# 0行目にヘッダを読み込んでしまうのでちょっと工夫\n",
        "df = pd.DataFrame.from_records(rows)\n",
        "# header = df[:0]\n",
        "col_list = df.values[0].tolist()\n",
        "df = df.drop(0)\n",
        "df.columns = col_list\n",
        "df"
      ],
      "execution_count": 0,
      "outputs": []
    },
    {
      "metadata": {
        "id": "t1DEQV_FUlwZ",
        "colab_type": "code",
        "colab": {}
      },
      "cell_type": "code",
      "source": [
        "# 国が中国のものと空のものは取り除く\n",
        "df_without_cn = df[(df['country_code'] != 'CN') & (df['country_code'] != '')]\n",
        "df_without_cn"
      ],
      "execution_count": 0,
      "outputs": []
    },
    {
      "metadata": {
        "id": "v97ZN8SmPCpY",
        "colab_type": "code",
        "colab": {}
      },
      "cell_type": "code",
      "source": [
        "grouped =df_without_cn.groupby(['username','country_code'])\n",
        "grpuped_df = grouped.size().to_frame('size')\n",
        "grpuped_df\n"
      ],
      "execution_count": 0,
      "outputs": []
    },
    {
      "metadata": {
        "id": "gSUFxSBXanks",
        "colab_type": "code",
        "colab": {}
      },
      "cell_type": "code",
      "source": [
        "# 各usernameごとに国別のデータ数が一番多いものを抽出する\n",
        "idx = grpuped_df.groupby('username')['size'].idxmax()\n",
        "\n",
        "df_max_count_country =  grpuped_df.loc[idx]\n",
        "df_max_count_country"
      ],
      "execution_count": 0,
      "outputs": []
    },
    {
      "metadata": {
        "id": "I1voqcOsOEBA",
        "colab_type": "code",
        "colab": {}
      },
      "cell_type": "code",
      "source": [
        "# スプレッドシートの３枚めを開く\n",
        "worksheet3 = gc.open('pythongram_sample').get_worksheet(2)\n",
        "\n",
        "i = 2\n",
        "for index, row in df_max_count_country.iterrows():\n",
        "  cell_list = worksheet3.range('A' + str(i) + ':' + 'C' + str(i))\n",
        "  print('A' + str(i) + ':' + 'C' + str(i))\n",
        "  #   print(index[0])\n",
        "  #   print(index[1])\n",
        "  #   print(row)\n",
        "  cell_list[0].value = index[0]\n",
        "  cell_list[1].value = index[1]\n",
        "  cell_list[2].value = row.values[0].item()\n",
        "  print(type(row.values[0].item()))\n",
        "  worksheet3.update_cells(cell_list)\n",
        "  i += 1\n",
        "    "
      ],
      "execution_count": 0,
      "outputs": []
    },
    {
      "metadata": {
        "id": "7p9Af0QJjCxw",
        "colab_type": "text"
      },
      "cell_type": "markdown",
      "source": [
        ""
      ]
    },
    {
      "metadata": {
        "id": "GLiaKnMyhdgJ",
        "colab_type": "code",
        "colab": {}
      },
      "cell_type": "code",
      "source": [
        "list = [] \n",
        "for name, group in grouped:\n",
        "  #   print(name)\n",
        "  list.append(group.head(1).values[0].tolist())\n",
        "\n",
        "#  このリストでユーザ名 x 国名の1つ目のデータのリストが格納されている\n",
        "list"
      ],
      "execution_count": 0,
      "outputs": []
    },
    {
      "metadata": {
        "id": "Qd5Pnr8xxCKI",
        "colab_type": "code",
        "colab": {}
      },
      "cell_type": "code",
      "source": [
        "# スプレッドシートの2枚めを開く。ただしスプレッドシートをGoogle mapのマイマップに展開するには、スプレッドシートの１枚目のシートにコピーする必要がある\n",
        "worksheet2 = gc.open('pythongram_sample').get_worksheet(1)\n",
        "\n",
        "i = 2\n",
        "for v in list:\n",
        "   print('A' + str(i) + ':' + 'G' + str(i))\n",
        "  cell_list = worksheet2.range('A' + str(i) + ':' + 'G' + str(i))\n",
        "  cell_list[0].value = v[0]\n",
        "  cell_list[1].value = v[1]\n",
        "  cell_list[2].value = v[2]\n",
        "  cell_list[3].value = v[3]\n",
        "  cell_list[4].value = v[4]\n",
        "  cell_list[5].value = v[5]\n",
        "  cell_list[6].value = v[6]\n",
        "\n",
        "  worksheet2.update_cells(cell_list)\n",
        "  i += 1\n"
      ],
      "execution_count": 0,
      "outputs": []
    },
    {
      "metadata": {
        "id": "6HtDMzhceEh7",
        "colab_type": "code",
        "colab": {}
      },
      "cell_type": "code",
      "source": [
        ""
      ],
      "execution_count": 0,
      "outputs": []
    }
  ]
}